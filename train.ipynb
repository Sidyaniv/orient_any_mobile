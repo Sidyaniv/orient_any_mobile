{
 "cells": [
  {
   "cell_type": "code",
   "execution_count": 1,
   "id": "0284738f",
   "metadata": {},
   "outputs": [],
   "source": [
    "import numpy as np\n",
    "import torch"
   ]
  },
  {
   "cell_type": "code",
   "execution_count": null,
   "id": "2ff61bbd",
   "metadata": {},
   "outputs": [
    {
     "ename": "ModuleNotFoundError",
     "evalue": "No module named 'paths'",
     "output_type": "error",
     "traceback": [
      "\u001b[31m---------------------------------------------------------------------------\u001b[39m",
      "\u001b[31mModuleNotFoundError\u001b[39m                       Traceback (most recent call last)",
      "\u001b[36mCell\u001b[39m\u001b[36m \u001b[39m\u001b[32mIn[1]\u001b[39m\u001b[32m, line 1\u001b[39m\n\u001b[32m----> \u001b[39m\u001b[32m1\u001b[39m \u001b[38;5;28;01mfrom\u001b[39;00m\u001b[38;5;250m \u001b[39m\u001b[34;01mpaths\u001b[39;00m\u001b[38;5;250m \u001b[39m\u001b[38;5;28;01mimport\u001b[39;00m *\n\u001b[32m      2\u001b[39m \u001b[38;5;28;01mfrom\u001b[39;00m\u001b[38;5;250m \u001b[39m\u001b[34;01mvision_tower\u001b[39;00m\u001b[38;5;250m \u001b[39m\u001b[38;5;28;01mimport\u001b[39;00m DINOv2_MLP\n\u001b[32m      3\u001b[39m \u001b[38;5;28;01mfrom\u001b[39;00m\u001b[38;5;250m \u001b[39m\u001b[34;01mtransformers\u001b[39;00m\u001b[38;5;250m \u001b[39m\u001b[38;5;28;01mimport\u001b[39;00m AutoImageProcessor\n",
      "\u001b[31mModuleNotFoundError\u001b[39m: No module named 'paths'"
     ]
    }
   ],
   "source": [
    "# from vision_tower import DINOv2_MLP\n",
    "from transformers import AutoImageProcessor\n",
    "import torch\n",
    "from PIL import Image\n",
    "\n",
    "import torch.nn.functional as F\n",
    "from utils import *\n",
    "from inference import *\n",
    "\n",
    "from huggingface_hub import hf_hub_download"
   ]
  },
  {
   "cell_type": "code",
   "execution_count": null,
   "id": "2be17623",
   "metadata": {},
   "outputs": [],
   "source": [
    "\n",
    "ckpt_path = hf_hub_download(repo_id=\"Viglong/Orient-Anything\", filename=\"croplargeEX2/dino_weight.pt\", repo_type=\"model\", cache_dir='./', resume_download=True)\n",
    "print(ckpt_path)\n",
    "\n",
    "save_path = './'\n",
    "device = 'cuda' if torch.cuda.is_available() else 'cpu'\n",
    "dino = DINOv2_MLP(\n",
    "                    dino_mode   = 'large',\n",
    "                    in_dim      = 1024,\n",
    "                    out_dim     = 360+180+180+2,\n",
    "                    evaluate    = True,\n",
    "                    mask_dino   = False,\n",
    "                    frozen_back = False\n",
    "                )\n",
    "\n",
    "dino.eval()\n",
    "print('model create')\n",
    "dino.load_state_dict(torch.load(ckpt_path, map_location='cpu'))\n",
    "dino = dino.to(device)\n",
    "print('weight loaded')\n",
    "val_preprocess   = AutoImageProcessor.from_pretrained(DINO_LARGE, cache_dir='./')\n",
    "\n",
    "image_path = '/path/to/image'\n",
    "origin_image = Image.open(image_path).convert('RGB')\n",
    "angles = get_3angle(origin_image, dino, val_preprocess, device)\n",
    "azimuth     = float(angles[0])\n",
    "polar       = float(angles[1])\n",
    "rotation    = float(angles[2])\n",
    "confidence  = float(angles[3])\n",
    "\n"
   ]
  }
 ],
 "metadata": {
  "kernelspec": {
   "display_name": ".venv",
   "language": "python",
   "name": "python3"
  },
  "language_info": {
   "codemirror_mode": {
    "name": "ipython",
    "version": 3
   },
   "file_extension": ".py",
   "mimetype": "text/x-python",
   "name": "python",
   "nbconvert_exporter": "python",
   "pygments_lexer": "ipython3",
   "version": "3.12.3"
  }
 },
 "nbformat": 4,
 "nbformat_minor": 5
}
